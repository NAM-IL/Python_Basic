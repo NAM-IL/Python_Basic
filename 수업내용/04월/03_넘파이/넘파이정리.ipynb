{
 "cells": [
  {
   "cell_type": "markdown",
   "metadata": {},
   "source": [
    "## NumPy \n",
    "판다스\n",
    "```\n",
    "넘파이 숫자 선형대수 행렬연산 핵심\n",
    "#📌 python 의 array와 다름\n",
    "import array\n",
    "```"
   ]
  },
  {
   "cell_type": "code",
   "execution_count": 32,
   "metadata": {},
   "outputs": [
    {
     "name": "stdout",
     "output_type": "stream",
     "text": [
      "넘파이객체 - [1 2 3 4 5] \n",
      " 타입 - <class 'numpy.ndarray'>\n"
     ]
    }
   ],
   "source": [
    "import numpy as np\n",
    "\n",
    "리스트 = [1,2,3,4,5]\n",
    "\n",
    "\n",
    "넘파이객체 = np.array(리스트)\n",
    "넘파이객체\n",
    "print(f\"넘파이객체 - {넘파이객체}\", f\"\\n\", f\"타입 - {type(넘파이객체)}\")"
   ]
  },
  {
   "cell_type": "markdown",
   "metadata": {},
   "source": [
    "## 파이썬이 제공하는 pprint와는 다른 사용자 함수 정의"
   ]
  },
  {
   "cell_type": "code",
   "execution_count": 33,
   "metadata": {},
   "outputs": [],
   "source": [
    "# 사용자함수 정의\n",
    "def pprint(arr: np.ndarray):\n",
    "    print(f\"type: {type(arr)}\")\n",
    "    print(f\"shape: {arr.shape}\")\n",
    "    print(f\"ndim: {arr.ndim}\")\n",
    "    print(f\"dtype: {arr.dtype}\")"
   ]
  },
  {
   "cell_type": "code",
   "execution_count": 34,
   "metadata": {},
   "outputs": [
    {
     "name": "stdout",
     "output_type": "stream",
     "text": [
      "type: <class 'numpy.ndarray'>\n",
      "shape: (5,)\n",
      "ndim: 1\n",
      "dtype: int64\n"
     ]
    }
   ],
   "source": [
    "pprint(넘파이객체)"
   ]
  },
  {
   "cell_type": "code",
   "execution_count": 35,
   "metadata": {},
   "outputs": [
    {
     "name": "stdout",
     "output_type": "stream",
     "text": [
      "[1 2 3 4 5]\n"
     ]
    }
   ],
   "source": [
    "print(넘파이객체)"
   ]
  },
  {
   "cell_type": "code",
   "execution_count": 36,
   "metadata": {},
   "outputs": [
    {
     "name": "stdout",
     "output_type": "stream",
     "text": [
      "type: <class 'numpy.ndarray'>\n",
      "shape: (5,)\n",
      "ndim: 1\n",
      "dtype: float64\n"
     ]
    }
   ],
   "source": [
    "리스트 = [1,2,3,4,5]\n",
    "넘파이객체 = np.array(리스트, dtype='float64')\n",
    "pprint(넘파이객체)"
   ]
  },
  {
   "cell_type": "code",
   "execution_count": 37,
   "metadata": {},
   "outputs": [
    {
     "name": "stdout",
     "output_type": "stream",
     "text": [
      "type: <class 'numpy.ndarray'>\n",
      "shape: (2, 3)\n",
      "ndim: 2\n",
      "dtype: float64\n"
     ]
    }
   ],
   "source": [
    "arr2 = [(1,2,3), (4,5,6)]\n",
    "a2 = np.array(arr2, dtype=float)\n",
    "pprint(a2)"
   ]
  },
  {
   "cell_type": "markdown",
   "metadata": {},
   "source": [
    "\n",
    "### 파이썬 3차원 배열로 NumPy 배열 생성, 원소 데이터 타입 지정"
   ]
  },
  {
   "cell_type": "code",
   "execution_count": 38,
   "metadata": {},
   "outputs": [
    {
     "name": "stdout",
     "output_type": "stream",
     "text": [
      "type: <class 'numpy.ndarray'>\n",
      "shape: (2, 2, 3)\n",
      "ndim: 3\n",
      "dtype: float64\n"
     ]
    },
    {
     "data": {
      "text/plain": [
       "array([[[1., 2., 3.],\n",
       "        [4., 5., 6.]],\n",
       "\n",
       "       [[3., 2., 1.],\n",
       "        [4., 5., 6.]]])"
      ]
     },
     "execution_count": 38,
     "metadata": {},
     "output_type": "execute_result"
    }
   ],
   "source": [
    "arr = np.array([[[1,2,3], [4,5,6]], [[3,2,1], [4,5,6]]], dtype = float)\n",
    "a = np.array(arr, dtype = float)\n",
    "pprint(a)\n",
    "a"
   ]
  },
  {
   "cell_type": "code",
   "execution_count": 39,
   "metadata": {},
   "outputs": [
    {
     "name": "stdout",
     "output_type": "stream",
     "text": [
      "type: <class 'numpy.ndarray'>\n",
      "shape: (2, 3, 4)\n",
      "ndim: 3\n",
      "dtype: int16\n"
     ]
    },
    {
     "data": {
      "text/plain": [
       "array([[[1, 1, 1, 1],\n",
       "        [1, 1, 1, 1],\n",
       "        [1, 1, 1, 1]],\n",
       "\n",
       "       [[1, 1, 1, 1],\n",
       "        [1, 1, 1, 1],\n",
       "        [1, 1, 1, 1]]], dtype=int16)"
      ]
     },
     "execution_count": 39,
     "metadata": {},
     "output_type": "execute_result"
    }
   ],
   "source": [
    "a = np.ones((2,3,4), dtype = np.int16)\n",
    "pprint(a)\n",
    "a"
   ]
  },
  {
   "cell_type": "code",
   "execution_count": 40,
   "metadata": {},
   "outputs": [
    {
     "name": "stdout",
     "output_type": "stream",
     "text": [
      "type: <class 'numpy.ndarray'>\n",
      "shape: (3, 4)\n",
      "ndim: 2\n",
      "dtype: int16\n"
     ]
    },
    {
     "data": {
      "text/plain": [
       "array([[0, 0, 0, 0],\n",
       "       [0, 0, 0, 0],\n",
       "       [0, 0, 0, 0]], dtype=int16)"
      ]
     },
     "execution_count": 40,
     "metadata": {},
     "output_type": "execute_result"
    }
   ],
   "source": [
    "a = np.zeros((3,4), dtype = np.int16)\n",
    "pprint(a)\n",
    "a"
   ]
  },
  {
   "cell_type": "code",
   "execution_count": 41,
   "metadata": {},
   "outputs": [
    {
     "name": "stdout",
     "output_type": "stream",
     "text": [
      "type: <class 'numpy.ndarray'>\n",
      "shape: (4, 4)\n",
      "ndim: 2\n",
      "dtype: float64\n"
     ]
    },
    {
     "data": {
      "text/plain": [
       "array([[1., 0., 0., 0.],\n",
       "       [0., 1., 0., 0.],\n",
       "       [0., 0., 1., 0.],\n",
       "       [0., 0., 0., 1.]])"
      ]
     },
     "execution_count": 41,
     "metadata": {},
     "output_type": "execute_result"
    }
   ],
   "source": [
    "a = np.eye(4, dtype = np.float64)\n",
    "pprint(a)\n",
    "a"
   ]
  },
  {
   "cell_type": "code",
   "execution_count": 42,
   "metadata": {},
   "outputs": [
    {
     "name": "stdout",
     "output_type": "stream",
     "text": [
      "type: <class 'numpy.ndarray'>\n",
      "shape: (4, 2)\n",
      "ndim: 2\n",
      "dtype: float64\n"
     ]
    },
    {
     "data": {
      "text/plain": [
       "array([[ 53.47222222,  33.72222222],\n",
       "       [549.47222222,  33.72222222],\n",
       "       [ 53.47222222, 403.32222222],\n",
       "       [549.47222222, 403.32222222]])"
      ]
     },
     "execution_count": 42,
     "metadata": {},
     "output_type": "execute_result"
    }
   ],
   "source": [
    "a = np.empty((4,2), dtype = np.float64)\n",
    "pprint(a)\n",
    "a"
   ]
  },
  {
   "cell_type": "code",
   "execution_count": 43,
   "metadata": {},
   "outputs": [
    {
     "name": "stdout",
     "output_type": "stream",
     "text": [
      "type: <class 'numpy.ndarray'>\n",
      "shape: (4, 2)\n",
      "ndim: 2\n",
      "dtype: float64\n"
     ]
    },
    {
     "data": {
      "text/plain": [
       "array([[ 53.47222222,  33.72222222],\n",
       "       [549.47222222,  33.72222222],\n",
       "       [ 53.47222222, 403.32222222],\n",
       "       [549.47222222, 403.32222222]])"
      ]
     },
     "execution_count": 43,
     "metadata": {},
     "output_type": "execute_result"
    }
   ],
   "source": [
    "a = np.empty((4,2))\n",
    "pprint(a)\n",
    "a"
   ]
  },
  {
   "cell_type": "markdown",
   "metadata": {},
   "source": [
    "# 2.3 데이터 생성 함수\n",
    "```\n",
    "# NumPy는 주어진 조건으로 데이터를 생성한 후, 배열을 만드는 데이터 생성 함수를 제공합니다.\n",
    "# numpy.linspace\n",
    "# numpy.arange\n",
    "# numpy.logspace\n",
    "# np.linspace 함수\n",
    "```"
   ]
  },
  {
   "cell_type": "code",
   "execution_count": 44,
   "metadata": {},
   "outputs": [
    {
     "name": "stdout",
     "output_type": "stream",
     "text": [
      "type: <class 'numpy.ndarray'>\n",
      "shape: (50,)\n",
      "ndim: 1\n",
      "dtype: float64\n"
     ]
    },
    {
     "data": {
      "text/plain": [
       "array([  1.        ,   3.02040816,   5.04081633,   7.06122449,\n",
       "         9.08163265,  11.10204082,  13.12244898,  15.14285714,\n",
       "        17.16326531,  19.18367347,  21.20408163,  23.2244898 ,\n",
       "        25.24489796,  27.26530612,  29.28571429,  31.30612245,\n",
       "        33.32653061,  35.34693878,  37.36734694,  39.3877551 ,\n",
       "        41.40816327,  43.42857143,  45.44897959,  47.46938776,\n",
       "        49.48979592,  51.51020408,  53.53061224,  55.55102041,\n",
       "        57.57142857,  59.59183673,  61.6122449 ,  63.63265306,\n",
       "        65.65306122,  67.67346939,  69.69387755,  71.71428571,\n",
       "        73.73469388,  75.75510204,  77.7755102 ,  79.79591837,\n",
       "        81.81632653,  83.83673469,  85.85714286,  87.87755102,\n",
       "        89.89795918,  91.91836735,  93.93877551,  95.95918367,\n",
       "        97.97959184, 100.        ])"
      ]
     },
     "execution_count": 44,
     "metadata": {},
     "output_type": "execute_result"
    }
   ],
   "source": [
    "aa = np.linspace(1, 100, num=50, endpoint=True, retstep=False, dtype=None)\n",
    "pprint(aa)\n",
    "\n",
    "aa"
   ]
  },
  {
   "cell_type": "code",
   "execution_count": 45,
   "metadata": {},
   "outputs": [
    {
     "name": "stdout",
     "output_type": "stream",
     "text": [
      "type: <class 'numpy.ndarray'>\n",
      "shape: (5,)\n",
      "ndim: 1\n",
      "dtype: float64\n"
     ]
    }
   ],
   "source": [
    "a = np.linspace(0,1,5)\n",
    "pprint(a)"
   ]
  },
  {
   "cell_type": "code",
   "execution_count": 46,
   "metadata": {},
   "outputs": [
    {
     "data": {
      "image/png": "[encoded data removed]",
      "text/plain": [
       "<Figure size 640x480 with 1 Axes>"
      ]
     },
     "metadata": {},
     "output_type": "display_data"
    }
   ],
   "source": [
    "# matplotlib - 파이썬의 생태계에서 가장 근본적인 차트 라이브러리\n",
    "# from matplotlib import pyplot as plt\n",
    "import matplotlib.pyplot as plt\n",
    "\n",
    "# numpy 데이터\n",
    "# 그\n",
    "plt.plot(a, 'o')\n",
    "plt.show()"
   ]
  },
  {
   "cell_type": "markdown",
   "metadata": {},
   "source": [
    "```\n",
    "가상의 키를 만들어달라.\n",
    "그래프 그령봐\n",
    "수치를 가지고 \n",
    "BMI 지수(체질량지수(BMI))\n",
    "\n",
    "판정판정\n",
    "조건식 \n",
    "함수 만들기\n",
    "```"
   ]
  },
  {
   "cell_type": "code",
   "execution_count": 68,
   "metadata": {},
   "outputs": [
    {
     "name": "stdout",
     "output_type": "stream",
     "text": [
      "[50, 60, 70, 80, 90, 100, 110]\n",
      "[160, 165, 170, 175, 180, 185, 190]\n",
      "키(160), 몸무게(50), bmi:19.531249999999996 --> 보통\n",
      "키(165), 몸무게(60), bmi:22.038567493112943 --> 보통\n",
      "키(170), 몸무게(70), bmi:24.221453287197235 --> 과체중\n",
      "키(175), 몸무게(80), bmi:26.122448979591837 --> 과체중\n",
      "키(180), 몸무게(90), bmi:27.777777777777775 --> 과체중\n",
      "키(185), 몸무게(100), bmi:29.218407596785973 --> 과체중\n",
      "키(190), 몸무게(110), bmi:30.47091412742382 --> 과체중\n",
      "키(160), 몸무게(50), bmi:19.531249999999996 --> 보통\n",
      "키(165), 몸무게(60), bmi:22.038567493112943 --> 보통\n",
      "키(170), 몸무게(70), bmi:24.221453287197235 --> 과체중\n",
      "키(175), 몸무게(80), bmi:26.122448979591837 --> 과체중\n",
      "키(180), 몸무게(90), bmi:27.777777777777775 --> 과체중\n",
      "키(185), 몸무게(100), bmi:29.218407596785973 --> 과체중\n",
      "키(190), 몸무게(110), bmi:30.47091412742382 --> 과체중\n",
      "['보통', '보통', '과체중', '과체중', '과체중', '과체중', '과체중']\n"
     ]
    },
    {
     "data": {
      "image/png": "[encoded data removed]",
      "text/plain": [
       "<Figure size 640x480 with 1 Axes>"
      ]
     },
     "metadata": {},
     "output_type": "display_data"
    }
   ],
   "source": [
    "import numpy as np\n",
    "from matplotlib import pyplot as plt\n",
    "import math\n",
    "\n",
    "# 사용자함수 정의\n",
    "def pprint(arr: np.ndarray):\n",
    "    print(f\"type: {type(arr)}\")\n",
    "    print(f\"shape: {arr.shape}\")\n",
    "    print(f\"ndim: {arr.ndim}\")\n",
    "    print(f\"dtype: {arr.dtype}\")\n",
    "\n",
    "체중 = [w for w in range(50, 120, 10)]\n",
    "키 = [h for h in range(160, 195, 5)]\n",
    "\n",
    "print(체중)\n",
    "print(키)\n",
    "\n",
    "height = np.array(키)\n",
    "weight = np.array(체중)\n",
    "\n",
    "# pprint(weight)\n",
    "# pprint(height)\n",
    "\n",
    "# weightPlot = plt.plot(weight, 'o')\n",
    "# heightPlot = plt.plot(height, 'o')\n",
    "\n",
    "\n",
    "heightPlot = plt.plot(height,weight, 'o')\n",
    "\n",
    "# BMI(체질량지수) 계산함수(키, 체중)\n",
    "# if !(150 < 키 < 200):\n",
    "#   print()\n",
    "#   raise Exception\n",
    "\n",
    "# BMI = 체중(kg) / 신장(m)^2\n",
    "# labeling\n",
    "\n",
    "# bmi = 체중 / math.pow(키, 2)\n",
    "#   return \"과체중\"\n",
    "#   return \"보통\"\n",
    "#   return \"저체중\"\n",
    "def clacBMI(height, weight):\n",
    "    bmi = weight / math.pow(height*0.01, 2)\n",
    "    ret = ''\n",
    "    \n",
    "    if bmi < 18.5:\n",
    "        ret = '저체중'\n",
    "    elif bmi >= 18.5 and bmi <= 22.9:\n",
    "        ret = '보통'\n",
    "    else:\n",
    "        ret = '과체중'\n",
    "    \n",
    "    print(f'키({height}), 몸무게({weight}), bmi:{bmi} --> {ret}')\n",
    "    return  ret\n",
    "\n",
    "# print(clacBMI(height[0], weight[0]))\n",
    "\n",
    "판정들 = []\n",
    "for idx, person in enumerate(zip(height, weight)):\n",
    "    # print(person)\n",
    "    판정들.append(clacBMI(*person))\n",
    "    \n",
    "# print(판정들)\n",
    "\n",
    "# 리스트컴프리핸션\n",
    "판정들2 = list(map(clacBMI, height, weight))\n",
    "print(판정들2)\n",
    "\n",
    "# 람다식\n",
    "\n"
   ]
  },
  {
   "cell_type": "code",
   "execution_count": 71,
   "metadata": {},
   "outputs": [
    {
     "data": {
      "text/plain": [
       "array([0., 1., 2., 3., 4., 5., 6., 7., 8., 9.])"
      ]
     },
     "execution_count": 71,
     "metadata": {},
     "output_type": "execute_result"
    }
   ],
   "source": [
    "aa = np.array(range(0,10))\n",
    "aa = np.array(range(0,10), dtype=float)\n",
    "aa"
   ]
  },
  {
   "cell_type": "code",
   "execution_count": 105,
   "metadata": {},
   "outputs": [
    {
     "name": "stdout",
     "output_type": "stream",
     "text": [
      "type: <class 'numpy.ndarray'>\n",
      "shape: (20,)\n",
      "ndim: 1\n",
      "dtype: float64\n"
     ]
    },
    {
     "data": {
      "image/png": "[encoded data removed]",
      "text/plain": [
       "<Figure size 640x480 with 1 Axes>"
      ]
     },
     "metadata": {},
     "output_type": "display_data"
    }
   ],
   "source": [
    "a = np.logspace(0.1, 1, 20, endpoint=True)\n",
    "pprint(a)\n",
    "\n",
    "from matplotlib import pyplot as plt\n",
    "plt.plot(a, 'o')\n",
    "\n",
    "plt.show()\n"
   ]
  },
  {
   "cell_type": "code",
   "execution_count": 106,
   "metadata": {},
   "outputs": [
    {
     "data": {
      "image/png": "[encoded data removed]",
      "text/plain": [
       "<Figure size 640x480 with 1 Axes>"
      ]
     },
     "metadata": {},
     "output_type": "display_data"
    }
   ],
   "source": [
    "import numpy as np\n",
    "import matplotlib.pyplot as plt\n",
    "\n",
    "# Generate logarithmic data for x\n",
    "x = np.logspace(0.1, 2, num=100)  # Values between 10^0.1 and 10^2\n",
    "y = x**2  # Square of x for exponential growth\n",
    "\n",
    "# Plot the data\n",
    "plt.plot(x, y)\n",
    "plt.xscale('log')  # Use logarithmic scaling for x-axis\n",
    "plt.title('Logarithmic Scale Example')\n",
    "plt.xlabel('Logarithmic X')\n",
    "plt.ylabel('Y = X^2')\n",
    "plt.grid(True)\n",
    "plt.show()\n"
   ]
  },
  {
   "cell_type": "code",
   "execution_count": 112,
   "metadata": {},
   "outputs": [
    {
     "data": {
      "image/png": "[encoded data removed]",
      "text/plain": [
       "<Figure size 640x480 with 1 Axes>"
      ]
     },
     "metadata": {},
     "output_type": "display_data"
    }
   ],
   "source": [
    "data  = np.random.normal(0, 1, 10000)\n",
    "from matplotlib import pyplot as plt\n",
    "\n",
    "# 선그래프\n",
    "# plt.plot(data)\n",
    "\n",
    "\n",
    "# 히스토그래프\n",
    "plt.hist(data, bins=1000)\n",
    "\n",
    "plt.show()"
   ]
  }
 ],
 "metadata": {
  "kernelspec": {
   "display_name": "base",
   "language": "python",
   "name": "python3"
  },
  "language_info": {
   "codemirror_mode": {
    "name": "ipython",
    "version": 3
   },
   "file_extension": ".py",
   "mimetype": "text/x-python",
   "name": "python",
   "nbconvert_exporter": "python",
   "pygments_lexer": "ipython3",
   "version": "3.12.7"
  }
 },
 "nbformat": 4,
 "nbformat_minor": 2
}
