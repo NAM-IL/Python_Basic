{
 "cells": [
  {
   "cell_type": "markdown",
   "id": "79612612",
   "metadata": {},
   "source": [
    "### 🔹 matplotlib\n",
    "\n",
    "- [Matplotlib: Visualization with Python](https://matplotlib.org/)\n",
    "    - [Pyplot tutorial](https://matplotlib.org/stable/tutorials/pyplot.html)\n",
    "- [Matplotlib Tutorial - 파이썬으로 데이터 시각화하기](https://wikidocs.net/book/5011)"
   ]
  },
  {
   "cell_type": "code",
   "execution_count": null,
   "id": "b22fadb3",
   "metadata": {
    "vscode": {
     "languageId": "plaintext"
    }
   },
   "outputs": [],
   "source": []
  }
 ],
 "metadata": {
  "language_info": {
   "name": "python"
  }
 },
 "nbformat": 4,
 "nbformat_minor": 5
}
