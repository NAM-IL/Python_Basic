{
 "cells": [
  {
   "cell_type": "markdown",
   "id": "79612612",
   "metadata": {},
   "source": [
    "### 🔹 matplotlib\n",
    "\n",
    "- [Matplotlib: Visualization with Python](https://matplotlib.org/)\n",
    "    - [Pyplot tutorial](https://matplotlib.org/stable/tutorials/pyplot.html)"
   ]
  }
 ],
 "metadata": {
  "language_info": {
   "name": "python"
  }
 },
 "nbformat": 4,
 "nbformat_minor": 5
}
