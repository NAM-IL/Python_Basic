{
 "cells": [
  {
   "cell_type": "code",
   "execution_count": 3,
   "id": "b8a51dcc-5cd3-47b8-8c2d-62c830651524",
   "metadata": {},
   "outputs": [],
   "source": [
    "배열 = [n for n in range(0,20)] "
   ]
  },
  {
   "cell_type": "code",
   "execution_count": 5,
   "id": "1e7051d2-c00d-43b6-8429-80707a7cab88",
   "metadata": {},
   "outputs": [
    {
     "name": "stdout",
     "output_type": "stream",
     "text": [
      "[0, 1, 2, 3, 4, 5, 6, 7, 8, 9, 10, 11, 12, 13, 14, 15, 16, 17, 18, 19]\n"
     ]
    }
   ],
   "source": [
    "print(배열)"
   ]
  },
  {
   "cell_type": "code",
   "execution_count": null,
   "id": "3116e811-31b9-488a-91ab-c4c97a6ff9ef",
   "metadata": {},
   "outputs": [],
   "source": [
    "for n in 배열:\n",
    "    if n % 2 == 0:\n",
    "        print(f\"{n}은 짝수 입니다.\")\n",
    "    else:\n",
    "        print(f\"{n}은 홀수 입니다.\")"
   ]
  }
 ],
 "metadata": {
  "kernelspec": {
   "display_name": "Python [conda env:base] *",
   "language": "python",
   "name": "conda-base-py"
  },
  "language_info": {
   "codemirror_mode": {
    "name": "ipython",
    "version": 3
   },
   "file_extension": ".py",
   "mimetype": "text/x-python",
   "name": "python",
   "nbconvert_exporter": "python",
   "pygments_lexer": "ipython3",
   "version": "3.12.7"
  }
 },
 "nbformat": 4,
 "nbformat_minor": 5
}
