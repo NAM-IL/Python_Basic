{
 "cells": [
  {
   "cell_type": "markdown",
   "metadata": {},
   "source": [
    "### 4장 함수 만들기\n",
    "```\n",
    "오늘목표\n",
    "기본함수를 정복하자\n",
    "시그니처\n",
    "\n",
    "\n",
    "# 정의만 한 것\n",
    "# 호출이 되었을때 메모리에 올라감\n",
    "def 내맘대로이름(name):\n",
    "    할일적기 print()\n",
    "\n",
    "\n",
    "내맘대로이름(\"홍길동\")\n",
    "\n",
    "```"
   ]
  },
  {
   "cell_type": "code",
   "execution_count": 8,
   "metadata": {},
   "outputs": [
    {
     "name": "stdout",
     "output_type": "stream",
     "text": [
      "ww님 반갑습니다.\n"
     ]
    }
   ],
   "source": [
    "def inputName():\n",
    "    name = input(\"이름을 입력해 주세요.\")\n",
    "    print(f\"{name}님 반갑습니다.\")\n",
    "\n",
    "if __name__ == \"__main__\":\n",
    "    inputName()\n"
   ]
  },
  {
   "cell_type": "code",
   "execution_count": 6,
   "metadata": {},
   "outputs": [
    {
     "name": "stdout",
     "output_type": "stream",
     "text": [
      "kkk님은 34세 이시군요.\n"
     ]
    }
   ],
   "source": [
    "def printAge(name, age):\n",
    "    print(f\"{name}님은 {age}세 이시군요.\")\n",
    "    \n",
    "    \n",
    "if __name__ == \"__main__\":\n",
    "    name = input(\"이름을 입력해 주세요.\")\n",
    "    age = input(\"나이를 입력해 주세요.\")\n",
    "    printAge(name, int(age))"
   ]
  }
 ],
 "metadata": {
  "kernelspec": {
   "display_name": "base",
   "language": "python",
   "name": "python3"
  },
  "language_info": {
   "codemirror_mode": {
    "name": "ipython",
    "version": 3
   },
   "file_extension": ".py",
   "mimetype": "text/x-python",
   "name": "python",
   "nbconvert_exporter": "python",
   "pygments_lexer": "ipython3",
   "version": "3.12.7"
  }
 },
 "nbformat": 4,
 "nbformat_minor": 2
}
