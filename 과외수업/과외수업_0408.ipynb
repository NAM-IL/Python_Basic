{
 "cells": [
  {
   "cell_type": "markdown",
   "id": "3a1d1bca",
   "metadata": {},
   "source": [
    "```\n",
    "#영어든 숫자 한글\n",
    "01234567\n",
    "\"asdfdfs\"\n",
    "7654321\n",
    "인덱스    0123456789\n",
    "문자열 = \"0123456789\"\n",
    "-인덱스   -987654321\n",
    "```"
   ]
  },
  {
   "cell_type": "code",
   "execution_count": null,
   "id": "0262465e",
   "metadata": {},
   "outputs": [
    {
     "name": "stdout",
     "output_type": "stream",
     "text": [
      "012345678\n"
     ]
    }
   ],
   "source": [
    "문자열 = \"0123456789\"\n",
    "#문자열[-1]\n",
    "#9\n",
    "# 뒤에 음수로 표현되어 있으면 음수할당 자리 바로 앞까지의 문자열이 출력\n",
    "print(문자열[:-1])"
   ]
  },
  {
   "cell_type": "code",
   "execution_count": 14,
   "id": "511c7e19",
   "metadata": {},
   "outputs": [
    {
     "ename": "KeyboardInterrupt",
     "evalue": "",
     "output_type": "error",
     "traceback": [
      "\u001b[0;31m---------------------------------------------------------------------------\u001b[0m",
      "\u001b[0;31mKeyboardInterrupt\u001b[0m                         Traceback (most recent call last)",
      "Cell \u001b[0;32mIn[14], line 3\u001b[0m\n\u001b[1;32m      1\u001b[0m \u001b[38;5;28;01mimport\u001b[39;00m \u001b[38;5;21;01mtime\u001b[39;00m\n\u001b[1;32m      2\u001b[0m \u001b[38;5;66;03m# \u001b[39;00m\n\u001b[0;32m----> 3\u001b[0m time\u001b[38;5;241m.\u001b[39msleep(\u001b[38;5;241m300\u001b[39m)\n\u001b[1;32m      5\u001b[0m \u001b[38;5;66;03m# 그 윗줄까지만 실행하고 정상 종료\u001b[39;00m\n\u001b[1;32m      6\u001b[0m \u001b[38;5;66;03m# import sys\u001b[39;00m\n\u001b[1;32m      7\u001b[0m \u001b[38;5;66;03m# sys.exit()\u001b[39;00m\n\u001b[1;32m      8\u001b[0m \n\u001b[1;32m      9\u001b[0m \n\u001b[1;32m     10\u001b[0m \u001b[38;5;66;03m#  디버깅모드 진입\u001b[39;00m\n\u001b[1;32m     11\u001b[0m \u001b[38;5;28mbreakpoint\u001b[39m()\n",
      "\u001b[0;31mKeyboardInterrupt\u001b[0m: "
     ]
    }
   ],
   "source": [
    "import time\n",
    "# \n",
    "time.sleep(300)\n",
    "\n",
    "# 그 윗줄까지만 실행하고 정상 종료\n",
    "# import sys\n",
    "# sys.exit()\n",
    "\n",
    "\n",
    "#  디버깅모드 진입\n",
    "breakpoint()\n",
    "\n",
    "\n",
    "\n",
    "# 디버깅모드 진입\n",
    "import pdb\n",
    "pdb.set_trace()\n",
    "\n",
    "a = []\n",
    "\n",
    "print(a)\n"
   ]
  }
 ],
 "metadata": {
  "kernelspec": {
   "display_name": "base",
   "language": "python",
   "name": "python3"
  },
  "language_info": {
   "codemirror_mode": {
    "name": "ipython",
    "version": 3
   },
   "file_extension": ".py",
   "mimetype": "text/x-python",
   "name": "python",
   "nbconvert_exporter": "python",
   "pygments_lexer": "ipython3",
   "version": "3.12.7"
  }
 },
 "nbformat": 4,
 "nbformat_minor": 5
}
